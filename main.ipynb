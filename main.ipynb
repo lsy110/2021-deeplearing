{
 "cells": [
  {
   "cell_type": "code",
   "execution_count": 1,
   "metadata": {
    "collapsed": false
   },
   "outputs": [
    {
     "name": "stderr",
     "output_type": "stream",
     "text": [
      "/opt/conda/envs/python35-paddle120-env/lib/python3.7/site-packages/scipy/sparse/sputils.py:16: DeprecationWarning: `np.typeDict` is a deprecated alias for `np.sctypeDict`.\n",
      "  supported_dtypes = [np.typeDict[x] for x in supported_dtypes]\n",
      "/opt/conda/envs/python35-paddle120-env/lib/python3.7/site-packages/scipy/special/orthogonal.py:81: DeprecationWarning: `np.int` is a deprecated alias for the builtin `int`. To silence this warning, use `int` by itself. Doing this will not modify any behavior and is safe. When replacing `np.int`, you may wish to use e.g. `np.int64` or `np.int32` to specify the precision. If you wish to review your current use, check the release note link for additional information.\n",
      "Deprecated in NumPy 1.20; for more details and guidance: https://numpy.org/devdocs/release/1.20.0-notes.html#deprecations\n",
      "  from numpy import (exp, inf, pi, sqrt, floor, sin, cos, around, int,\n",
      "/opt/conda/envs/python35-paddle120-env/lib/python3.7/site-packages/scipy/linalg/__init__.py:217: DeprecationWarning: The module numpy.dual is deprecated.  Instead of using dual, use the functions directly from numpy or scipy.\n",
      "  from numpy.dual import register_func\n"
     ]
    }
   ],
   "source": [
    "#相关环境配置\n",
    "import paddle\n",
    "from paddlenlp.datasets import MapDataset\n",
    "from paddlenlp.transformers import ErnieTokenizer, ErnieForTokenClassification\n",
    "from utils import convert_example, evaluate, predict, load_dict\n",
    "import numpy as np\n",
    "from paddle.io import DataLoader\n",
    "import paddlenlp as ppnlp\n",
    "from paddlenlp.datasets import load_dataset\n",
    "from paddlenlp.data import Stack, Tuple, Pad, Dict\n",
    "from paddlenlp.metrics import ChunkEvaluator\n",
    "from functools import partial"
   ]
  },
  {
   "cell_type": "code",
   "execution_count": 2,
   "metadata": {
    "collapsed": false
   },
   "outputs": [],
   "source": [
    "#.数据格式调整\r\n",
    "import os\r\n",
    "def format_data(source_filename, target_filename):\r\n",
    "    datalist=[]\r\n",
    "    with open(source_filename, 'r', encoding='utf-8') as f:\r\n",
    "        lines=f.readlines()\r\n",
    "    words=''\r\n",
    "    labels=''\r\n",
    "    flag=0\r\n",
    "    for line in lines:  \r\n",
    "        if line == '\\n':\r\n",
    "            item=words+'\\t'+labels+'\\n'\r\n",
    "            # print(item)\r\n",
    "            datalist.append(item)\r\n",
    "            words=''\r\n",
    "            labels=''\r\n",
    "            flag=0\r\n",
    "            continue\r\n",
    "        word, label = line.strip('\\n').split(' ')\r\n",
    "        if flag==1:\r\n",
    "            words=words+'\\002'+word\r\n",
    "            labels=labels+'\\002'+label\r\n",
    "        else:\r\n",
    "            words=words+word\r\n",
    "            labels=labels+label\r\n",
    "            flag=1\r\n",
    "    with open(target_filename, 'w', encoding='utf-8') as f:\r\n",
    "        lines=f.writelines(datalist)\r\n",
    "    print(f'{source_filename}文件格式转换完毕，保存为{target_filename}')"
   ]
  },
  {
   "cell_type": "code",
   "execution_count": 3,
   "metadata": {
    "collapsed": false
   },
   "outputs": [],
   "source": [
    "#加载自定义数据集，使用MapDataset()自定义数据集\n",
    "def load_dataset(datafiles):\n",
    "    def read(data_path):\n",
    "        with open(data_path, 'r', encoding='utf-8') as fp:\n",
    "            next(fp)  # Skip header\n",
    "            for line in fp.readlines():\n",
    "                words, labels = line.strip('\\n').split('\\t')\n",
    "                words = words.split('\\002')\n",
    "                labels = labels.split('\\002')\n",
    "                yield words, labels\n",
    "\n",
    "    if isinstance(datafiles, str):\n",
    "        return MapDataset(list(read(datafiles)))\n",
    "    elif isinstance(datafiles, list) or isinstance(datafiles, tuple):\n",
    "        return [MapDataset(list(read(datafile))) for datafile in datafiles]        "
   ]
  },
  {
   "cell_type": "code",
   "execution_count": 4,
   "metadata": {
    "collapsed": false
   },
   "outputs": [],
   "source": [
    "# label标签表构建\r\n",
    "#之后，还需要对输入句子进行数据处理，如切词，映射词表id等。\r\n",
    "def gernate_dic(source_filename1, source_filename2, target_filename):\r\n",
    "    data_list=[]\r\n",
    "\r\n",
    "    with open(source_filename1, 'r', encoding='utf-8') as f:\r\n",
    "        lines=f.readlines()\r\n",
    "\r\n",
    "    for line in lines:\r\n",
    "        if line != '\\n':\r\n",
    "            dic=line.strip('\\n').split(' ')[-1]\r\n",
    "            if dic+'\\n' not in data_list:\r\n",
    "                data_list.append(dic+'\\n')\r\n",
    "    \r\n",
    "    with open(source_filename2, 'r', encoding='utf-8') as f:\r\n",
    "        lines=f.readlines()\r\n",
    "\r\n",
    "    for line in lines:\r\n",
    "        if line != '\\n':\r\n",
    "            dic=line.strip('\\n').split(' ')[-1]\r\n",
    "            if dic+'\\n' not in data_list:\r\n",
    "                data_list.append(dic+'\\n')\r\n",
    "\r\n",
    "    with open(target_filename, 'w', encoding='utf-8') as f:\r\n",
    "        lines=f.writelines(data_list)    "
   ]
  },
  {
   "cell_type": "code",
   "execution_count": 5,
   "metadata": {
    "collapsed": false
   },
   "outputs": [
    {
     "name": "stdout",
     "output_type": "stream",
     "text": [
      "dataset/dev.conll文件格式转换完毕，保存为dataset/dev.txt\n",
      "dataset/train.conll文件格式转换完毕，保存为dataset/train.txt\n"
     ]
    },
    {
     "name": "stderr",
     "output_type": "stream",
     "text": [
      "[2022-12-23 20:13:14,610] [    INFO] - Downloading vocab.txt from https://paddlenlp.bj.bcebos.com/models/transformers/ernie/vocab.txt\n",
      "100%|██████████| 90/90 [00:00<00:00, 33459.26it/s]\n"
     ]
    },
    {
     "data": {
      "text/plain": [
       "<paddlenlp.datasets.dataset.MapDataset at 0x7eff6ab8e3d0>"
      ]
     },
     "execution_count": 5,
     "metadata": {},
     "output_type": "execute_result"
    }
   ],
   "source": [
    "format_data('dataset/dev.conll', 'dataset/dev.txt')\r\n",
    "format_data(r'dataset/train.conll', r'dataset/train.txt')\r\n",
    "train_ds, dev_ds = load_dataset(datafiles=(\r\n",
    "        './dataset/train.txt', './dataset/dev.txt'))\r\n",
    "# 从dev文件生成dic\r\n",
    "gernate_dic('dataset/train.conll', 'dataset/dev.conll', 'dataset/mytag.dic')\r\n",
    "#tokenizer作用为将原始输入文本转化成模型model可以接受的输入数据形式。\r\n",
    "label_vocab = load_dict('./dataset/mytag.dic')\r\n",
    "tokenizer = ErnieTokenizer.from_pretrained('ernie-1.0')\r\n",
    "\r\n",
    "trans_func = partial(convert_example, tokenizer=tokenizer, label_vocab=label_vocab)\r\n",
    "\r\n",
    "train_ds.map(trans_func)\r\n",
    "dev_ds.map(trans_func)"
   ]
  },
  {
   "cell_type": "code",
   "execution_count": 6,
   "metadata": {
    "collapsed": false
   },
   "outputs": [],
   "source": [
    "#数据读入\n",
    "ignore_label = -1\n",
    "batchify_fn = lambda samples, fn=Tuple(\n",
    "    Pad(axis=0, pad_val=tokenizer.pad_token_id),  # input_ids\n",
    "    Pad(axis=0, pad_val=tokenizer.pad_token_type_id),  # token_type_ids\n",
    "    Stack(),  # seq_len\n",
    "    Pad(axis=0, pad_val=ignore_label)  # labels\n",
    "): fn(samples)\n",
    "#使用paddle.io.DataLoader接口多线程异步加载数据\n",
    "train_loader = paddle.io.DataLoader(\n",
    "    dataset=train_ds,\n",
    "    batch_size=300,\n",
    "    return_list=True,\n",
    "    collate_fn=batchify_fn)\n",
    "dev_loader = paddle.io.DataLoader(\n",
    "    dataset=dev_ds,\n",
    "    batch_size=300,\n",
    "    return_list=True,\n",
    "    collate_fn=batchify_fn)"
   ]
  },
  {
   "cell_type": "code",
   "execution_count": 7,
   "metadata": {
    "collapsed": false
   },
   "outputs": [
    {
     "name": "stderr",
     "output_type": "stream",
     "text": [
      "[2022-12-23 20:13:20,279] [    INFO] - Downloading https://paddlenlp.bj.bcebos.com/models/transformers/ernie/ernie_v1_chn_base.pdparams and saved to /home/aistudio/.paddlenlp/models/ernie-1.0\n",
      "[2022-12-23 20:13:20,282] [    INFO] - Downloading ernie_v1_chn_base.pdparams from https://paddlenlp.bj.bcebos.com/models/transformers/ernie/ernie_v1_chn_base.pdparams\n",
      "100%|██████████| 392507/392507 [00:06<00:00, 62312.80it/s]\n",
      "/opt/conda/envs/python35-paddle120-env/lib/python3.7/site-packages/paddle/fluid/dygraph/layers.py:1301: UserWarning: Skip loading for classifier.weight. classifier.weight is not found in the provided dict.\n",
      "  warnings.warn((\"Skip loading for {}. \".format(key) + str(err)))\n",
      "/opt/conda/envs/python35-paddle120-env/lib/python3.7/site-packages/paddle/fluid/dygraph/layers.py:1301: UserWarning: Skip loading for classifier.bias. classifier.bias is not found in the provided dict.\n",
      "  warnings.warn((\"Skip loading for {}. \".format(key) + str(err)))\n"
     ]
    }
   ],
   "source": [
    "#加载预训练模型\n",
    "model = ErnieForTokenClassification.from_pretrained(\"ernie-1.0\", num_classes=len(label_vocab))\n",
    "#设置Fine-Tune优化策略，模型配置\n",
    "metric = ChunkEvaluator(label_list=label_vocab.keys(), suffix=True)\n",
    "loss_fn = paddle.nn.loss.CrossEntropyLoss(ignore_index=ignore_label)\n",
    "optimizer = paddle.optimizer.AdamW(learning_rate=2e-5, parameters=model.parameters())"
   ]
  },
  {
   "cell_type": "code",
   "execution_count": null,
   "metadata": {
    "collapsed": false
   },
   "outputs": [
    {
     "name": "stderr",
     "output_type": "stream",
     "text": [
      "/opt/conda/envs/python35-paddle120-env/lib/python3.7/site-packages/paddle/fluid/dygraph/math_op_patch.py:239: UserWarning: The dtype of left and right variables are not the same, left dtype is paddle.float32, but right dtype is paddle.bool, the right dtype will convert to paddle.float32\n",
      "  format(lhs_dtype, rhs_dtype, lhs_dtype))\n"
     ]
    },
    {
     "name": "stdout",
     "output_type": "stream",
     "text": [
      "epoch:0 - step:1 - loss: 4.143913\n",
      "epoch:0 - step:2 - loss: 4.013627\n"
     ]
    }
   ],
   "source": [
    "#开始训练\n",
    "step = 0\n",
    "steps=[]\n",
    "losses=[]\n",
    "epochs=[]\n",
    "for epoch in range(60):#这里测试的时候可以是1，实际训练时是60\n",
    "    for idx, (input_ids, token_type_ids, length, labels) in enumerate(train_loader):\n",
    "        logits = model(input_ids, token_type_ids)\n",
    "        loss = paddle.mean(loss_fn(logits, labels))\n",
    "        loss.backward()\n",
    "        optimizer.step()\n",
    "        optimizer.clear_grad()\n",
    "        step += 1\n",
    "        steps.append(step)\n",
    "        losses.append(loss)\n",
    "        print(\"epoch:%d - step:%d - loss: %f\" % (epoch, step, loss))\n",
    "    evaluate(model, metric, dev_loader)\n",
    "    epochs.append(epoch)\n",
    "    paddle.save(model.state_dict(),\n",
    "                './checkpoint/model_%d.pdparams' % step)\n",
    "                \n"
   ]
  },
  {
   "cell_type": "code",
   "execution_count": null,
   "metadata": {
    "collapsed": false
   },
   "outputs": [
    {
     "data": {
      "image/png": "[encoded data removed]",
      "text/plain": [
       "<Figure size 640x480 with 1 Axes>"
      ]
     },
     "metadata": {},
     "output_type": "display_data"
    }
   ],
   "source": [
    "import matplotlib.pyplot as plt\r\n",
    "plt.xlabel(\"step(s)\")     # X轴标签\r\n",
    "plt.ylabel(\"loss\")        # Y轴坐标标签\r\n",
    "plt.title(\"LOSS\")      #  曲线图的标题\r\n",
    "plt.plot(steps,losses)            # 绘制曲线图\r\n",
    "plt.show()"
   ]
  },
  {
   "cell_type": "code",
   "execution_count": 1,
   "metadata": {
    "collapsed": false
   },
   "outputs": [],
   "source": [
    "!mkdir ernie_result\r\n",
    "model.save_pretrained('./ernie_result')\r\n",
    "tokenizer.save_pretrained('./ernie_result')"
   ]
  },
  {
   "cell_type": "code",
   "execution_count": null,
   "metadata": {
    "collapsed": false
   },
   "outputs": [],
   "source": [
    "#定义test数据集\r\n",
    "def load_dataset(datafiles):\r\n",
    "    def read(data_path):\r\n",
    "        with open(data_path, 'r', encoding='utf-8') as fp:\r\n",
    "            # next(fp)  # 没有header，不用Skip header\r\n",
    "            for line in fp.readlines():\r\n",
    "                ids, words = line.strip('\\n').split('\\001')\r\n",
    "                words=[ch for ch in words]\r\n",
    "                # 要预测的数据集没有label，伪造个O，不知道可以不 ，应该后面预测不会用label\r\n",
    "                labels=['O' for x in range(0,len(words))]\r\n",
    "\r\n",
    "                yield words, labels\r\n",
    "                # yield words\r\n",
    "\r\n",
    "    if isinstance(datafiles, str):\r\n",
    "        return MapDataset(list(read(datafiles)))\r\n",
    "    elif isinstance(datafiles, list) or isinstance(datafiles, tuple):\r\n",
    "        return [MapDataset(list(read(datafile))) for datafile in datafiles]      "
   ]
  },
  {
   "cell_type": "code",
   "execution_count": null,
   "metadata": {
    "collapsed": false
   },
   "outputs": [],
   "source": [
    "#打开测试集数据\r\n",
    "test_ds = load_dataset(datafiles=('./dataset/final_test.txt'))"
   ]
  },
  {
   "cell_type": "code",
   "execution_count": null,
   "metadata": {
    "collapsed": false
   },
   "outputs": [
    {
     "name": "stderr",
     "output_type": "stream",
     "text": [
      "[2022-12-23 15:40:43,377] [    INFO] - Found /home/aistudio/.paddlenlp/models/ernie-1.0/vocab.txt\n"
     ]
    },
    {
     "name": "stdout",
     "output_type": "stream",
     "text": [
      "([1, 705, 507, 121, 96, 129, 252, 155, 540, 540, 540, 17963, 540, 500, 2], [0, 0, 0, 0, 0, 0, 0, 0, 0, 0, 0, 0, 0, 0, 0], 15, [24, 24, 24, 24, 24, 24, 24, 24, 24, 24, 24, 24, 24, 24, 24])"
     ]
    },
    {
     "name": "stdout",
     "output_type": "stream",
     "text": [
      "\n"
     ]
    }
   ],
   "source": [
    "加载训练好的模型\r\n",
    "label_vocab = load_dict('./dataset/mytag.dic')\r\n",
    "tokenizer = ErnieTokenizer.from_pretrained('ernie-1.0')\r\n",
    "\r\n",
    "trans_func = partial(convert_example, tokenizer=tokenizer, label_vocab=label_vocab)\r\n",
    "test_ds.map(trans_func)\r\n",
    "print (test_ds[0])"
   ]
  },
  {
   "cell_type": "code",
   "execution_count": null,
   "metadata": {
    "collapsed": false
   },
   "outputs": [],
   "source": [
    "ignore_label = 1\r\n",
    "batchify_fn = lambda samples, fn=Tuple(\r\n",
    "    Pad(axis=0, pad_val=tokenizer.pad_token_id),  # input_ids\r\n",
    "    Pad(axis=0, pad_val=tokenizer.pad_token_type_id),  # token_type_ids\r\n",
    "    Stack(),  # seq_len\r\n",
    "    Pad(axis=0, pad_val=ignore_label)  # labels\r\n",
    "): fn(samples)"
   ]
  },
  {
   "cell_type": "code",
   "execution_count": null,
   "metadata": {
    "collapsed": false
   },
   "outputs": [],
   "source": [
    "test_loader = paddle.io.DataLoader(\r\n",
    "    dataset=test_ds,\r\n",
    "    batch_size=30,\r\n",
    "    return_list=True,\r\n",
    "    collate_fn=batchify_fn)"
   ]
  },
  {
   "cell_type": "code",
   "execution_count": null,
   "metadata": {
    "collapsed": false
   },
   "outputs": [],
   "source": [
    "def my_predict(model, data_loader, ds, label_vocab):\r\n",
    "    pred_list = []\r\n",
    "    len_list = []\r\n",
    "    for input_ids, seg_ids, lens, labels in data_loader:\r\n",
    "        logits = model(input_ids, seg_ids)\r\n",
    "        # print(len(logits[0]))\r\n",
    "        pred = paddle.argmax(logits, axis=-1)\r\n",
    "        pred_list.append(pred.numpy())\r\n",
    "        len_list.append(lens.numpy())\r\n",
    "    preds ,tags= parse_decodes(ds, pred_list, len_list, label_vocab)\r\n",
    "    return preds, tags"
   ]
  },
  {
   "cell_type": "code",
   "execution_count": null,
   "metadata": {
    "collapsed": false
   },
   "outputs": [],
   "source": [
    "model = ErnieForTokenClassification.from_pretrained(\"ernie-1.0\", num_classes=len(label_vocab))\r\n",
    "model_dict = paddle.load('ernie_result/model_state.pdparams')\r\n",
    "model.set_dict(model_dict)\r\n",
    "from utils import *\r\n",
    "preds, tags = my_predict(model, test_loader, test_ds, label_vocab)"
   ]
  },
  {
   "cell_type": "code",
   "execution_count": null,
   "metadata": {
    "collapsed": false
   },
   "outputs": [
    {
     "name": "stdout",
     "output_type": "stream",
     "text": [
      "The results have been saved in the file: ernie_results1.txt, some examples are shown below: \n"
     ]
    }
   ],
   "source": [
    "#预测并保存\r\n",
    "file_path = \"ernie_results1.txt\"\r\n",
    "with open(file_path, \"w\", encoding=\"utf8\") as fout:\r\n",
    "    fout.write(\"\\n\".join(preds))\r\n",
    "# Print some examples\r\n",
    "#转换保存结果\r\n",
    "def main():\r\n",
    "    data_list = []\r\n",
    "    with open('ernie_results.txt', encoding='utf-8') as f:\r\n",
    "        data_list = f.readlines()\r\n",
    "    return data_list\r\n",
    "if __name__ == \"__main__\":\r\n",
    "    print('1^ A浙江杭州阿里^AB-prov E-prov B-city E-city B-poi E-poi')\r\n",
    "    sentence_list = main()\r\n",
    "    print(len(sentence_list))\r\n",
    "\r\n",
    "    final_test = []\r\n",
    "    with open('dataset/final_test.txt', encoding='utf-8') as f:\r\n",
    "        final_test = f.readlines()\r\n",
    "    test_data = []\r\n",
    "    print(f'{len(final_test)}\\t\\t{len(sentence_list)}')\r\n",
    "    for i in range(len(final_test)):\r\n",
    "        # test_data.append(final_test[i].strip('\\n') + '\\001' + sentence_list[i] + '\\n')\r\n",
    "        test_data.append(final_test[i].strip('\\n').strip(' ') + '\\001' + sentence_list[i].strip(' '))\r\n",
    "    with open('predict1.txt', 'w', encoding='utf-8') as f:\r\n",
    "        f.writelines(test_data)\r\n",
    "    print(50 * '*')\r\n",
    "    print('write result ok!')\r\n",
    "    print(50 * '*')"
   ]
  },
  {
   "cell_type": "code",
   "execution_count": null,
   "metadata": {
    "collapsed": false
   },
   "outputs": [
    {
     "name": "stdout",
     "output_type": "stream",
     "text": [
      "测试集预测结果输出成功\n"
     ]
    }
   ],
   "source": [
    "import linecache\r\n",
    "#提交格式检查\r\n",
    "def check(submit_path, test_path, max_num=50000):\r\n",
    "    N = 0\r\n",
    "    with open(submit_path, 'r', encoding='utf-8') as fin:\r\n",
    "        for line in fin:\r\n",
    "            line = line.strip()\r\n",
    "            if line == '':\r\n",
    "                continue\r\n",
    "            N += 1\r\n",
    "            parts = line.split('\\001')  # id, sent, tags\r\n",
    "            if len(parts) != 3:\r\n",
    "                raise AssertionError(f\"分隔符不正确，写入文件时请用'\\\\001'来分隔ID，句子和预测标签！Error Line:{line.strip()}\")\r\n",
    "            elif len(parts[1]) != len(parts[2].split(' ')):\r\n",
    "                print(line)\r\n",
    "                raise AssertionError(f\"请保证句子长度和标签长度一致，且标签之间用空格分隔！ID:{parts[0]} Sent:{parts[1]}\")\r\n",
    "            elif parts[0] != str(N):\r\n",
    "                raise AssertionError(f\"请保证测试数据的ID合法！ID:{parts[0]} Sent:{parts[1]}\")\r\n",
    "            else:\r\n",
    "                for tag in parts[2].split(' '):\r\n",
    "                    if (tag == 'O' or tag.startswith('S-')\r\n",
    "                        or tag.startswith('B-')\r\n",
    "                        or tag.startswith('I-')\r\n",
    "                        or tag.startswith('E-')) is False:\r\n",
    "                        raise AssertionError(f\"预测结果存在不合法的标签！ID:{parts[0]} Tag:{parts[2]}\")\r\n",
    "\r\n",
    "                test_line = linecache.getline(test_path, int(parts[0]))\r\n",
    "                test_sent = test_line.strip().split('\\001')[1]\r\n",
    "                if test_sent.strip() != parts[1].strip():\r\n",
    "                    raise AssertionError(f\"请不要改变测试数据原文！ID:{parts[0]} Sent:{parts[1]}\")\r\n",
    "    if N != max_num:\r\n",
    "        raise AssertionError(f\"请保证测试数据的完整性(共{max_num}条)，不可丢失或增加数据！\")\r\n",
    "    print('测试集预测结果输出成功')\r\n",
    "\r\n",
    "    \r\n",
    "check('predict1.txt', 'dataset/final_test.txt')\r\n"
   ]
  }
 ],
 "metadata": {
  "kernelspec": {
   "display_name": "Python 3",
   "language": "python",
   "name": "py35-paddle1.2.0"
  },
  "language_info": {
   "codemirror_mode": {
    "name": "ipython",
    "version": 3
   },
   "file_extension": ".py",
   "mimetype": "text/x-python",
   "name": "python",
   "nbconvert_exporter": "python",
   "pygments_lexer": "ipython3",
   "version": "3.7.4"
  }
 },
 "nbformat": 4,
 "nbformat_minor": 1
}
